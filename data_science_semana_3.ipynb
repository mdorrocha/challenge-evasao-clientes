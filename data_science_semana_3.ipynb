{
 "cells": [
  {
   "cell_type": "markdown",
   "metadata": {},
   "source": [
    "# Desafio Data Science Semana 3"
   ]
  },
  {
   "cell_type": "markdown",
   "metadata": {},
   "source": [
    "## Preparando os dados para o Machine Learning"
   ]
  },
  {
   "cell_type": "code",
   "execution_count": 1,
   "metadata": {},
   "outputs": [],
   "source": [
    "import pandas as pd\n",
    "import seaborn as sns\n",
    "from  matplotlib import pyplot as plt\n",
    "from utils import SEED, executa_modelo, gera_matriz_confusao, otimiza_modelo\n",
    "from imblearn.over_sampling import SMOTE\n",
    "from sklearn.model_selection import train_test_split, cross_val_score, KFold\n",
    "from sklearn.svm import SVC\n",
    "from sklearn.tree import DecisionTreeClassifier\n",
    "from sklearn.ensemble import RandomForestClassifier"
   ]
  },
  {
   "cell_type": "code",
   "execution_count": 2,
   "metadata": {},
   "outputs": [],
   "source": [
    "%matplotlib inline\n",
    "pd.set_option(\"display.max_columns\", 50)\n",
    "dados = pd.read_csv('Dados/dados_tratados.csv')"
   ]
  },
  {
   "cell_type": "code",
   "execution_count": 3,
   "metadata": {},
   "outputs": [],
   "source": [
    "# convertendo valores das colunas categóricas para valores inteiros\n",
    "# vou considerar 0 para o valor sem internet e sem telefone (mesmo que não)\n",
    "replace_columns = {\n",
    "    'Não': 0,\n",
    "    'Sim': 1,\n",
    "    'Feminino': 0,\n",
    "    'Masculino': 1,\n",
    "    'Sem internet': 0,\n",
    "    'Sem telefone': 0\n",
    "}\n",
    "dados = dados.replace(replace_columns)"
   ]
  },
  {
   "cell_type": "code",
   "execution_count": 4,
   "metadata": {},
   "outputs": [
    {
     "data": {
      "text/html": [
       "<div>\n",
       "<style scoped>\n",
       "    .dataframe tbody tr th:only-of-type {\n",
       "        vertical-align: middle;\n",
       "    }\n",
       "\n",
       "    .dataframe tbody tr th {\n",
       "        vertical-align: top;\n",
       "    }\n",
       "\n",
       "    .dataframe thead th {\n",
       "        text-align: right;\n",
       "    }\n",
       "</style>\n",
       "<table border=\"1\" class=\"dataframe\">\n",
       "  <thead>\n",
       "    <tr style=\"text-align: right;\">\n",
       "      <th></th>\n",
       "      <th>Cancelado</th>\n",
       "      <th>Gênero</th>\n",
       "      <th>Maior igual a 65</th>\n",
       "      <th>Parceiro</th>\n",
       "      <th>Dependentes</th>\n",
       "      <th>Meses de contrato</th>\n",
       "      <th>Serviço telefônico</th>\n",
       "      <th>Múltiplas linhas</th>\n",
       "      <th>Serviço de internet</th>\n",
       "      <th>Segurança online</th>\n",
       "      <th>Backup online</th>\n",
       "      <th>Proteção do dispositivo</th>\n",
       "      <th>Suporte técnico</th>\n",
       "      <th>TV a cabo</th>\n",
       "      <th>Streaming de filmes</th>\n",
       "      <th>Tipo de contrato</th>\n",
       "      <th>Fatura online</th>\n",
       "      <th>Forma de pagamento</th>\n",
       "      <th>Valor por mês</th>\n",
       "    </tr>\n",
       "  </thead>\n",
       "  <tbody>\n",
       "    <tr>\n",
       "      <th>0</th>\n",
       "      <td>0</td>\n",
       "      <td>0</td>\n",
       "      <td>0</td>\n",
       "      <td>1</td>\n",
       "      <td>1</td>\n",
       "      <td>9</td>\n",
       "      <td>1</td>\n",
       "      <td>0</td>\n",
       "      <td>DSL</td>\n",
       "      <td>0</td>\n",
       "      <td>1</td>\n",
       "      <td>0</td>\n",
       "      <td>1</td>\n",
       "      <td>1</td>\n",
       "      <td>0</td>\n",
       "      <td>Anual</td>\n",
       "      <td>1</td>\n",
       "      <td>Cheque enviado</td>\n",
       "      <td>65.6</td>\n",
       "    </tr>\n",
       "    <tr>\n",
       "      <th>1</th>\n",
       "      <td>0</td>\n",
       "      <td>1</td>\n",
       "      <td>0</td>\n",
       "      <td>0</td>\n",
       "      <td>0</td>\n",
       "      <td>9</td>\n",
       "      <td>1</td>\n",
       "      <td>1</td>\n",
       "      <td>DSL</td>\n",
       "      <td>0</td>\n",
       "      <td>0</td>\n",
       "      <td>0</td>\n",
       "      <td>0</td>\n",
       "      <td>0</td>\n",
       "      <td>1</td>\n",
       "      <td>Mensal</td>\n",
       "      <td>0</td>\n",
       "      <td>Cheque enviado</td>\n",
       "      <td>59.9</td>\n",
       "    </tr>\n",
       "    <tr>\n",
       "      <th>2</th>\n",
       "      <td>1</td>\n",
       "      <td>1</td>\n",
       "      <td>0</td>\n",
       "      <td>0</td>\n",
       "      <td>0</td>\n",
       "      <td>4</td>\n",
       "      <td>1</td>\n",
       "      <td>0</td>\n",
       "      <td>Fibra Ótica</td>\n",
       "      <td>0</td>\n",
       "      <td>0</td>\n",
       "      <td>1</td>\n",
       "      <td>0</td>\n",
       "      <td>0</td>\n",
       "      <td>0</td>\n",
       "      <td>Mensal</td>\n",
       "      <td>1</td>\n",
       "      <td>Cheque eletrônico</td>\n",
       "      <td>73.9</td>\n",
       "    </tr>\n",
       "    <tr>\n",
       "      <th>3</th>\n",
       "      <td>1</td>\n",
       "      <td>1</td>\n",
       "      <td>1</td>\n",
       "      <td>1</td>\n",
       "      <td>0</td>\n",
       "      <td>13</td>\n",
       "      <td>1</td>\n",
       "      <td>0</td>\n",
       "      <td>Fibra Ótica</td>\n",
       "      <td>0</td>\n",
       "      <td>1</td>\n",
       "      <td>1</td>\n",
       "      <td>0</td>\n",
       "      <td>1</td>\n",
       "      <td>1</td>\n",
       "      <td>Mensal</td>\n",
       "      <td>1</td>\n",
       "      <td>Cheque eletrônico</td>\n",
       "      <td>98.0</td>\n",
       "    </tr>\n",
       "    <tr>\n",
       "      <th>4</th>\n",
       "      <td>1</td>\n",
       "      <td>0</td>\n",
       "      <td>1</td>\n",
       "      <td>1</td>\n",
       "      <td>0</td>\n",
       "      <td>3</td>\n",
       "      <td>1</td>\n",
       "      <td>0</td>\n",
       "      <td>Fibra Ótica</td>\n",
       "      <td>0</td>\n",
       "      <td>0</td>\n",
       "      <td>0</td>\n",
       "      <td>1</td>\n",
       "      <td>1</td>\n",
       "      <td>0</td>\n",
       "      <td>Mensal</td>\n",
       "      <td>1</td>\n",
       "      <td>Cheque enviado</td>\n",
       "      <td>83.9</td>\n",
       "    </tr>\n",
       "  </tbody>\n",
       "</table>\n",
       "</div>"
      ],
      "text/plain": [
       "   Cancelado  Gênero  Maior igual a 65  Parceiro  Dependentes  \\\n",
       "0          0       0                 0         1            1   \n",
       "1          0       1                 0         0            0   \n",
       "2          1       1                 0         0            0   \n",
       "3          1       1                 1         1            0   \n",
       "4          1       0                 1         1            0   \n",
       "\n",
       "   Meses de contrato  Serviço telefônico  Múltiplas linhas  \\\n",
       "0                  9                   1                 0   \n",
       "1                  9                   1                 1   \n",
       "2                  4                   1                 0   \n",
       "3                 13                   1                 0   \n",
       "4                  3                   1                 0   \n",
       "\n",
       "  Serviço de internet  Segurança online  Backup online  \\\n",
       "0                 DSL                 0              1   \n",
       "1                 DSL                 0              0   \n",
       "2         Fibra Ótica                 0              0   \n",
       "3         Fibra Ótica                 0              1   \n",
       "4         Fibra Ótica                 0              0   \n",
       "\n",
       "   Proteção do dispositivo  Suporte técnico  TV a cabo  Streaming de filmes  \\\n",
       "0                        0                1          1                    0   \n",
       "1                        0                0          0                    1   \n",
       "2                        1                0          0                    0   \n",
       "3                        1                0          1                    1   \n",
       "4                        0                1          1                    0   \n",
       "\n",
       "  Tipo de contrato  Fatura online Forma de pagamento  Valor por mês  \n",
       "0            Anual              1     Cheque enviado           65.6  \n",
       "1           Mensal              0     Cheque enviado           59.9  \n",
       "2           Mensal              1  Cheque eletrônico           73.9  \n",
       "3           Mensal              1  Cheque eletrônico           98.0  \n",
       "4           Mensal              1     Cheque enviado           83.9  "
      ]
     },
     "execution_count": 4,
     "metadata": {},
     "output_type": "execute_result"
    }
   ],
   "source": [
    "# removendo colunas desnecessárias\n",
    "# a coluna id do cliente possui valores únicos não sendo interessante para treinar o modelo\n",
    "# a coluna valor total pode ser obtida com o produto de meses de contrato e valor por mês\n",
    "# o mesmo ocorre com gastos diários\n",
    "dados = dados.drop(columns=['Id Cliente', 'Valor total', 'Gastos diários'])\n",
    "dados.head()"
   ]
  },
  {
   "cell_type": "markdown",
   "metadata": {},
   "source": [
    "### A técnica one-hot encoding consiste em transformar valores categóricos em colunas binárias"
   ]
  },
  {
   "cell_type": "code",
   "execution_count": 5,
   "metadata": {},
   "outputs": [
    {
     "data": {
      "text/html": [
       "<div>\n",
       "<style scoped>\n",
       "    .dataframe tbody tr th:only-of-type {\n",
       "        vertical-align: middle;\n",
       "    }\n",
       "\n",
       "    .dataframe tbody tr th {\n",
       "        vertical-align: top;\n",
       "    }\n",
       "\n",
       "    .dataframe thead th {\n",
       "        text-align: right;\n",
       "    }\n",
       "</style>\n",
       "<table border=\"1\" class=\"dataframe\">\n",
       "  <thead>\n",
       "    <tr style=\"text-align: right;\">\n",
       "      <th></th>\n",
       "      <th>Cancelado</th>\n",
       "      <th>Gênero</th>\n",
       "      <th>Maior igual a 65</th>\n",
       "      <th>Parceiro</th>\n",
       "      <th>Dependentes</th>\n",
       "      <th>Meses de contrato</th>\n",
       "      <th>Serviço telefônico</th>\n",
       "      <th>Múltiplas linhas</th>\n",
       "      <th>Segurança online</th>\n",
       "      <th>Backup online</th>\n",
       "      <th>Proteção do dispositivo</th>\n",
       "      <th>Suporte técnico</th>\n",
       "      <th>TV a cabo</th>\n",
       "      <th>Streaming de filmes</th>\n",
       "      <th>Fatura online</th>\n",
       "      <th>Valor por mês</th>\n",
       "      <th>Serviço de internet_0</th>\n",
       "      <th>Serviço de internet_DSL</th>\n",
       "      <th>Serviço de internet_Fibra Ótica</th>\n",
       "      <th>Tipo de contrato_2 anos</th>\n",
       "      <th>Tipo de contrato_Anual</th>\n",
       "      <th>Tipo de contrato_Mensal</th>\n",
       "      <th>Forma de pagamento_Cartão de crédito</th>\n",
       "      <th>Forma de pagamento_Cheque eletrônico</th>\n",
       "      <th>Forma de pagamento_Cheque enviado</th>\n",
       "      <th>Forma de pagamento_Transferência bancária</th>\n",
       "    </tr>\n",
       "  </thead>\n",
       "  <tbody>\n",
       "    <tr>\n",
       "      <th>0</th>\n",
       "      <td>0</td>\n",
       "      <td>0</td>\n",
       "      <td>0</td>\n",
       "      <td>1</td>\n",
       "      <td>1</td>\n",
       "      <td>9</td>\n",
       "      <td>1</td>\n",
       "      <td>0</td>\n",
       "      <td>0</td>\n",
       "      <td>1</td>\n",
       "      <td>0</td>\n",
       "      <td>1</td>\n",
       "      <td>1</td>\n",
       "      <td>0</td>\n",
       "      <td>1</td>\n",
       "      <td>65.6</td>\n",
       "      <td>0</td>\n",
       "      <td>1</td>\n",
       "      <td>0</td>\n",
       "      <td>0</td>\n",
       "      <td>1</td>\n",
       "      <td>0</td>\n",
       "      <td>0</td>\n",
       "      <td>0</td>\n",
       "      <td>1</td>\n",
       "      <td>0</td>\n",
       "    </tr>\n",
       "    <tr>\n",
       "      <th>1</th>\n",
       "      <td>0</td>\n",
       "      <td>1</td>\n",
       "      <td>0</td>\n",
       "      <td>0</td>\n",
       "      <td>0</td>\n",
       "      <td>9</td>\n",
       "      <td>1</td>\n",
       "      <td>1</td>\n",
       "      <td>0</td>\n",
       "      <td>0</td>\n",
       "      <td>0</td>\n",
       "      <td>0</td>\n",
       "      <td>0</td>\n",
       "      <td>1</td>\n",
       "      <td>0</td>\n",
       "      <td>59.9</td>\n",
       "      <td>0</td>\n",
       "      <td>1</td>\n",
       "      <td>0</td>\n",
       "      <td>0</td>\n",
       "      <td>0</td>\n",
       "      <td>1</td>\n",
       "      <td>0</td>\n",
       "      <td>0</td>\n",
       "      <td>1</td>\n",
       "      <td>0</td>\n",
       "    </tr>\n",
       "    <tr>\n",
       "      <th>2</th>\n",
       "      <td>1</td>\n",
       "      <td>1</td>\n",
       "      <td>0</td>\n",
       "      <td>0</td>\n",
       "      <td>0</td>\n",
       "      <td>4</td>\n",
       "      <td>1</td>\n",
       "      <td>0</td>\n",
       "      <td>0</td>\n",
       "      <td>0</td>\n",
       "      <td>1</td>\n",
       "      <td>0</td>\n",
       "      <td>0</td>\n",
       "      <td>0</td>\n",
       "      <td>1</td>\n",
       "      <td>73.9</td>\n",
       "      <td>0</td>\n",
       "      <td>0</td>\n",
       "      <td>1</td>\n",
       "      <td>0</td>\n",
       "      <td>0</td>\n",
       "      <td>1</td>\n",
       "      <td>0</td>\n",
       "      <td>1</td>\n",
       "      <td>0</td>\n",
       "      <td>0</td>\n",
       "    </tr>\n",
       "    <tr>\n",
       "      <th>3</th>\n",
       "      <td>1</td>\n",
       "      <td>1</td>\n",
       "      <td>1</td>\n",
       "      <td>1</td>\n",
       "      <td>0</td>\n",
       "      <td>13</td>\n",
       "      <td>1</td>\n",
       "      <td>0</td>\n",
       "      <td>0</td>\n",
       "      <td>1</td>\n",
       "      <td>1</td>\n",
       "      <td>0</td>\n",
       "      <td>1</td>\n",
       "      <td>1</td>\n",
       "      <td>1</td>\n",
       "      <td>98.0</td>\n",
       "      <td>0</td>\n",
       "      <td>0</td>\n",
       "      <td>1</td>\n",
       "      <td>0</td>\n",
       "      <td>0</td>\n",
       "      <td>1</td>\n",
       "      <td>0</td>\n",
       "      <td>1</td>\n",
       "      <td>0</td>\n",
       "      <td>0</td>\n",
       "    </tr>\n",
       "    <tr>\n",
       "      <th>4</th>\n",
       "      <td>1</td>\n",
       "      <td>0</td>\n",
       "      <td>1</td>\n",
       "      <td>1</td>\n",
       "      <td>0</td>\n",
       "      <td>3</td>\n",
       "      <td>1</td>\n",
       "      <td>0</td>\n",
       "      <td>0</td>\n",
       "      <td>0</td>\n",
       "      <td>0</td>\n",
       "      <td>1</td>\n",
       "      <td>1</td>\n",
       "      <td>0</td>\n",
       "      <td>1</td>\n",
       "      <td>83.9</td>\n",
       "      <td>0</td>\n",
       "      <td>0</td>\n",
       "      <td>1</td>\n",
       "      <td>0</td>\n",
       "      <td>0</td>\n",
       "      <td>1</td>\n",
       "      <td>0</td>\n",
       "      <td>0</td>\n",
       "      <td>1</td>\n",
       "      <td>0</td>\n",
       "    </tr>\n",
       "  </tbody>\n",
       "</table>\n",
       "</div>"
      ],
      "text/plain": [
       "   Cancelado  Gênero  Maior igual a 65  Parceiro  Dependentes  \\\n",
       "0          0       0                 0         1            1   \n",
       "1          0       1                 0         0            0   \n",
       "2          1       1                 0         0            0   \n",
       "3          1       1                 1         1            0   \n",
       "4          1       0                 1         1            0   \n",
       "\n",
       "   Meses de contrato  Serviço telefônico  Múltiplas linhas  Segurança online  \\\n",
       "0                  9                   1                 0                 0   \n",
       "1                  9                   1                 1                 0   \n",
       "2                  4                   1                 0                 0   \n",
       "3                 13                   1                 0                 0   \n",
       "4                  3                   1                 0                 0   \n",
       "\n",
       "   Backup online  Proteção do dispositivo  Suporte técnico  TV a cabo  \\\n",
       "0              1                        0                1          1   \n",
       "1              0                        0                0          0   \n",
       "2              0                        1                0          0   \n",
       "3              1                        1                0          1   \n",
       "4              0                        0                1          1   \n",
       "\n",
       "   Streaming de filmes  Fatura online  Valor por mês  Serviço de internet_0  \\\n",
       "0                    0              1           65.6                      0   \n",
       "1                    1              0           59.9                      0   \n",
       "2                    0              1           73.9                      0   \n",
       "3                    1              1           98.0                      0   \n",
       "4                    0              1           83.9                      0   \n",
       "\n",
       "   Serviço de internet_DSL  Serviço de internet_Fibra Ótica  \\\n",
       "0                        1                                0   \n",
       "1                        1                                0   \n",
       "2                        0                                1   \n",
       "3                        0                                1   \n",
       "4                        0                                1   \n",
       "\n",
       "   Tipo de contrato_2 anos  Tipo de contrato_Anual  Tipo de contrato_Mensal  \\\n",
       "0                        0                       1                        0   \n",
       "1                        0                       0                        1   \n",
       "2                        0                       0                        1   \n",
       "3                        0                       0                        1   \n",
       "4                        0                       0                        1   \n",
       "\n",
       "   Forma de pagamento_Cartão de crédito  Forma de pagamento_Cheque eletrônico  \\\n",
       "0                                     0                                     0   \n",
       "1                                     0                                     0   \n",
       "2                                     0                                     1   \n",
       "3                                     0                                     1   \n",
       "4                                     0                                     0   \n",
       "\n",
       "   Forma de pagamento_Cheque enviado  \\\n",
       "0                                  1   \n",
       "1                                  1   \n",
       "2                                  0   \n",
       "3                                  0   \n",
       "4                                  1   \n",
       "\n",
       "   Forma de pagamento_Transferência bancária  \n",
       "0                                          0  \n",
       "1                                          0  \n",
       "2                                          0  \n",
       "3                                          0  \n",
       "4                                          0  "
      ]
     },
     "execution_count": 5,
     "metadata": {},
     "output_type": "execute_result"
    }
   ],
   "source": [
    "# one-hot encoding nas colunas Serviço de internet, tipo de contrato e forma de pagamento\n",
    "dados = pd.get_dummies(columns=['Serviço de internet', 'Tipo de contrato', 'Forma de pagamento'],\n",
    "                        data=dados)\n",
    "dados.head()"
   ]
  },
  {
   "cell_type": "code",
   "execution_count": 6,
   "metadata": {},
   "outputs": [
    {
     "data": {
      "text/plain": [
       "(7043, 26)"
      ]
     },
     "execution_count": 6,
     "metadata": {},
     "output_type": "execute_result"
    }
   ],
   "source": [
    "dados.shape"
   ]
  },
  {
   "cell_type": "markdown",
   "metadata": {},
   "source": [
    "### Balanceamento dos dados"
   ]
  },
  {
   "cell_type": "code",
   "execution_count": 7,
   "metadata": {},
   "outputs": [
    {
     "data": {
      "text/plain": [
       "0    5174\n",
       "1    1869\n",
       "Name: Cancelado, dtype: int64"
      ]
     },
     "execution_count": 7,
     "metadata": {},
     "output_type": "execute_result"
    }
   ],
   "source": [
    "dados.Cancelado.value_counts()"
   ]
  },
  {
   "cell_type": "code",
   "execution_count": 8,
   "metadata": {},
   "outputs": [],
   "source": [
    "# os dados estão desbalanceados, ou seja, existem 5174 clientes ativos e 1869 clientes \n",
    "# que cancelaram o plano. Para balancear os dados vamos utilizar a técnica SMOTE.\n",
    "x = dados.drop(['Cancelado'], axis=1)\n",
    "y = dados['Cancelado']\n",
    "sm = SMOTE(random_state=SEED)\n",
    "res_x, res_y = sm.fit_resample(x, y)\n",
    "dados_balanceados = pd.concat([res_y, res_x], axis=1)"
   ]
  },
  {
   "cell_type": "code",
   "execution_count": 9,
   "metadata": {},
   "outputs": [
    {
     "data": {
      "text/plain": [
       "0    5174\n",
       "1    5174\n",
       "Name: Cancelado, dtype: int64"
      ]
     },
     "execution_count": 9,
     "metadata": {},
     "output_type": "execute_result"
    }
   ],
   "source": [
    "dados_balanceados.Cancelado.value_counts()"
   ]
  },
  {
   "cell_type": "markdown",
   "metadata": {},
   "source": [
    "## Treinando e testando o modelo"
   ]
  },
  {
   "cell_type": "code",
   "execution_count": 10,
   "metadata": {},
   "outputs": [
    {
     "name": "stdout",
     "output_type": "stream",
     "text": [
      "Base de treino tem 7243 elementos e a base de teste tem 3105 elementos\n"
     ]
    }
   ],
   "source": [
    "# definindo dados de treino e teste\n",
    "x = dados_balanceados.drop(['Cancelado'], axis=1)\n",
    "y = dados_balanceados['Cancelado']\n",
    "# separa os dados em treino e teste\n",
    "treino_x, teste_x, treino_y, teste_y = train_test_split(x, y, test_size= 0.3, random_state= SEED)\n",
    "print('Base de treino tem %d elementos e a base de teste tem %d elementos' % (treino_x.shape[0], teste_x.shape[0]))"
   ]
  },
  {
   "cell_type": "markdown",
   "metadata": {},
   "source": [
    "As seguintes métricas são importantes na análise do melhor modelo de machine learning:\n",
    "* Acurácia: avalia a proporção de acertos em relação a todas as previsões realizadas.\n",
    "* Precisão: avalia a proporção de verdadeiros positivos dentre as predições dadas como positivas pelo modelo.\n",
    "* Sensibilidade ou Recall: avalia a proporção de verdadeiros positivos dentre todos os valores positivos reais.\n",
    "* F1 Score: é o equilíbrio entre a sensibilidade e a precisão, sendo a média harmônica entre as duas métricas."
   ]
  },
  {
   "cell_type": "code",
   "execution_count": 11,
   "metadata": {},
   "outputs": [],
   "source": [
    "# classificador SVC\n",
    "parametros_modelo={\n",
    "    'random_state': SEED\n",
    "}\n",
    "metricas_svc, previsao_svc = executa_modelo(treino_x, teste_x, treino_y, teste_y, SVC, parametros_modelo)"
   ]
  },
  {
   "cell_type": "code",
   "execution_count": 12,
   "metadata": {},
   "outputs": [
    {
     "name": "stdout",
     "output_type": "stream",
     "text": [
      "Matriz de confusão\n"
     ]
    },
    {
     "data": {
      "image/png": "[encoded data removed]",
      "text/plain": [
       "<Figure size 432x288 with 2 Axes>"
      ]
     },
     "metadata": {
      "needs_background": "light"
     },
     "output_type": "display_data"
    }
   ],
   "source": [
    "gera_matriz_confusao(teste_y, previsao_svc)"
   ]
  },
  {
   "cell_type": "code",
   "execution_count": 13,
   "metadata": {},
   "outputs": [],
   "source": [
    "# classificador árvore de decisão\n",
    "parametros_modelo.update({'max_depth': 10})\n",
    "metricas_dt, previsao_dt = executa_modelo(treino_x, teste_x, treino_y, teste_y, DecisionTreeClassifier, parametros_modelo)"
   ]
  },
  {
   "cell_type": "code",
   "execution_count": 14,
   "metadata": {},
   "outputs": [
    {
     "name": "stdout",
     "output_type": "stream",
     "text": [
      "Matriz de confusão\n"
     ]
    },
    {
     "data": {
      "image/png": "[encoded data removed]",
      "text/plain": [
       "<Figure size 432x288 with 2 Axes>"
      ]
     },
     "metadata": {
      "needs_background": "light"
     },
     "output_type": "display_data"
    }
   ],
   "source": [
    "gera_matriz_confusao(teste_y, previsao_dt)"
   ]
  },
  {
   "cell_type": "code",
   "execution_count": 15,
   "metadata": {},
   "outputs": [],
   "source": [
    "# classificador floresta aleatória\n",
    "metricas_rf, previsao_rf = executa_modelo(treino_x, teste_x, treino_y, teste_y, RandomForestClassifier, parametros_modelo)"
   ]
  },
  {
   "cell_type": "code",
   "execution_count": 16,
   "metadata": {},
   "outputs": [
    {
     "name": "stdout",
     "output_type": "stream",
     "text": [
      "Matriz de confusão\n"
     ]
    },
    {
     "data": {
      "image/png": "[encoded data removed]",
      "text/plain": [
       "<Figure size 432x288 with 2 Axes>"
      ]
     },
     "metadata": {
      "needs_background": "light"
     },
     "output_type": "display_data"
    }
   ],
   "source": [
    "gera_matriz_confusao(teste_y, previsao_rf)"
   ]
  },
  {
   "cell_type": "code",
   "execution_count": 17,
   "metadata": {},
   "outputs": [
    {
     "data": {
      "text/html": [
       "<div>\n",
       "<style scoped>\n",
       "    .dataframe tbody tr th:only-of-type {\n",
       "        vertical-align: middle;\n",
       "    }\n",
       "\n",
       "    .dataframe tbody tr th {\n",
       "        vertical-align: top;\n",
       "    }\n",
       "\n",
       "    .dataframe thead th {\n",
       "        text-align: right;\n",
       "    }\n",
       "</style>\n",
       "<table border=\"1\" class=\"dataframe\">\n",
       "  <thead>\n",
       "    <tr style=\"text-align: right;\">\n",
       "      <th></th>\n",
       "      <th>Modelo</th>\n",
       "      <th>Acurácia</th>\n",
       "      <th>Precisão</th>\n",
       "      <th>Recall</th>\n",
       "      <th>F1 score</th>\n",
       "    </tr>\n",
       "  </thead>\n",
       "  <tbody>\n",
       "    <tr>\n",
       "      <th>0</th>\n",
       "      <td>SVC</td>\n",
       "      <td>0.751369</td>\n",
       "      <td>0.722920</td>\n",
       "      <td>0.796309</td>\n",
       "      <td>0.757842</td>\n",
       "    </tr>\n",
       "    <tr>\n",
       "      <th>1</th>\n",
       "      <td>DecisionTreeClassifier</td>\n",
       "      <td>0.808374</td>\n",
       "      <td>0.784568</td>\n",
       "      <td>0.837838</td>\n",
       "      <td>0.810328</td>\n",
       "    </tr>\n",
       "    <tr>\n",
       "      <th>2</th>\n",
       "      <td>RandomForestClassifier</td>\n",
       "      <td>0.834783</td>\n",
       "      <td>0.802410</td>\n",
       "      <td>0.878049</td>\n",
       "      <td>0.838527</td>\n",
       "    </tr>\n",
       "  </tbody>\n",
       "</table>\n",
       "</div>"
      ],
      "text/plain": [
       "                   Modelo  Acurácia  Precisão    Recall  F1 score\n",
       "0                     SVC  0.751369  0.722920  0.796309  0.757842\n",
       "1  DecisionTreeClassifier  0.808374  0.784568  0.837838  0.810328\n",
       "2  RandomForestClassifier  0.834783  0.802410  0.878049  0.838527"
      ]
     },
     "execution_count": 17,
     "metadata": {},
     "output_type": "execute_result"
    }
   ],
   "source": [
    "# comparação das métricas dos modelos\n",
    "dicionario_modelos = metricas_svc | metricas_dt | metricas_rf\n",
    "comparacao_modelos = pd.DataFrame(dicionario_modelos).T\n",
    "comparacao_modelos = comparacao_modelos.reset_index().rename(columns={'index': 'Modelo'})\n",
    "comparacao_modelos"
   ]
  },
  {
   "cell_type": "markdown",
   "metadata": {},
   "source": [
    "O modelo que escolhi entre os três é o Random Forest porque obteve o maior recall. Esta métrica permite verificar o quanto o modelo errou em relação aos clientes que cancelaram. "
   ]
  },
  {
   "cell_type": "markdown",
   "metadata": {},
   "source": [
    "# Otimizando o modelo"
   ]
  },
  {
   "cell_type": "code",
   "execution_count": 18,
   "metadata": {},
   "outputs": [
    {
     "data": {
      "text/plain": [
       "{'n_estimators': 200,\n",
       " 'min_samples_split': 3,\n",
       " 'min_samples_leaf': 2,\n",
       " 'max_depth': 9,\n",
       " 'criterion': 'entropy',\n",
       " 'bootstrap': False}"
      ]
     },
     "execution_count": 18,
     "metadata": {},
     "output_type": "execute_result"
    }
   ],
   "source": [
    "busca = otimiza_modelo(x, y)\n",
    "busca.best_params_"
   ]
  },
  {
   "cell_type": "code",
   "execution_count": 19,
   "metadata": {},
   "outputs": [],
   "source": [
    "scores = cross_val_score(busca.best_estimator_, x, y, scoring = 'recall', \n",
    "                        cv = KFold(n_splits = 5, shuffle=True))"
   ]
  },
  {
   "cell_type": "code",
   "execution_count": 20,
   "metadata": {},
   "outputs": [
    {
     "data": {
      "text/plain": [
       "0.8821624482809108"
      ]
     },
     "execution_count": 20,
     "metadata": {},
     "output_type": "execute_result"
    }
   ],
   "source": [
    "scores.mean()"
   ]
  },
  {
   "cell_type": "code",
   "execution_count": 23,
   "metadata": {},
   "outputs": [],
   "source": [
    "# depois de definir os melhores hiper parâmetros treina o modelo novamente\n",
    "parametros_modelo = busca.best_params_\n",
    "parametros_modelo.update(random_state = SEED)\n",
    "metricas_rf, previsao_rf = executa_modelo(treino_x, teste_x, treino_y, teste_y, RandomForestClassifier, parametros_modelo)"
   ]
  },
  {
   "cell_type": "code",
   "execution_count": 24,
   "metadata": {},
   "outputs": [
    {
     "data": {
      "text/plain": [
       "{'RandomForestClassifier': {'Acurácia': 0.8260869565217391,\n",
       "  'Precisão': 0.7892243931320307,\n",
       "  'Recall': 0.8787079762689519,\n",
       "  'F1 score': 0.8315658140985652}}"
      ]
     },
     "execution_count": 24,
     "metadata": {},
     "output_type": "execute_result"
    }
   ],
   "source": [
    "metricas_rf"
   ]
  },
  {
   "cell_type": "markdown",
   "metadata": {},
   "source": [
    "A pesquisa com RandomizedSearchCV não trouxe melhoria para o modelo. Aumentar o espaço de pesquisa por melhores parâmetros incorre em maior custo computacional e não era o objetivo deste trabalho. "
   ]
  }
 ],
 "metadata": {
  "interpreter": {
   "hash": "3405d5c17878524b4feb6da7ceaf4d597495d2bcba23ebc75f611575901cacc4"
  },
  "kernelspec": {
   "display_name": "Python 3.9.6 ('venv': venv)",
   "language": "python",
   "name": "python3"
  },
  "language_info": {
   "codemirror_mode": {
    "name": "ipython",
    "version": 3
   },
   "file_extension": ".py",
   "mimetype": "text/x-python",
   "name": "python",
   "nbconvert_exporter": "python",
   "pygments_lexer": "ipython3",
   "version": "3.9.6"
  },
  "orig_nbformat": 4
 },
 "nbformat": 4,
 "nbformat_minor": 2
}
